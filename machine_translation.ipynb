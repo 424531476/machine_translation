{
 "cells": [
  {
   "cell_type": "code",
   "execution_count": 1,
   "metadata": {},
   "outputs": [
    {
     "name": "stderr",
     "output_type": "stream",
     "text": [
      "Using TensorFlow backend.\n"
     ]
    }
   ],
   "source": [
    "import collections\n",
    "import numpy as np\n",
    "from keras.preprocessing.text import Tokenizer\n",
    "from keras.preprocessing.sequence import pad_sequences\n",
    "from keras.models import Model\n",
    "from keras.layers import GRU, Input, Dense, TimeDistributed, Activation, RepeatVector, Bidirectional\n",
    "from keras.layers.embeddings import Embedding\n",
    "from keras.optimizers import Adam\n",
    "from keras.losses import sparse_categorical_crossentropy\n",
    "from keras.callbacks import EarlyStopping,ModelCheckpoint\n",
    "import matplotlib.pyplot as plt"
   ]
  },
  {
   "cell_type": "code",
   "execution_count": 2,
   "metadata": {},
   "outputs": [
    {
     "name": "stdout",
     "output_type": "stream",
     "text": [
      "英文数量: 137860\n",
      "法文数量: 137860\n",
      "中文数量: 137860\n"
     ]
    }
   ],
   "source": [
    "def read_data(data_path:str,encoding='utf8'):\n",
    "    data = open(data_path,'r',encoding=encoding).read().replace('\\u200b','').split('\\n')\n",
    "    while not data[-1]:\n",
    "        del data[-1]\n",
    "    return data\n",
    "en_datas = read_data(r'data/small_vocab_en.txt')\n",
    "fr_datas = read_data(r'data/small_vocab_fr.txt')\n",
    "zhcn_datas = read_data(r'data/small_vocab_zhcn.txt')\n",
    "\n",
    "\n",
    "print('英文数量:',len(en_datas))\n",
    "print('法文数量:',len(fr_datas))\n",
    "print('中文数量:',len(zhcn_datas))"
   ]
  },
  {
   "cell_type": "code",
   "execution_count": 3,
   "metadata": {},
   "outputs": [],
   "source": [
    "# 文字转id\n",
    "def tokenize(x,char_level=False):\n",
    "    x_tk = Tokenizer(char_level=char_level)\n",
    "    x_tk.fit_on_texts(x)\n",
    "    return x_tk.texts_to_sequences(x), x_tk\n",
    "en_tokenized, en_tokenizer =tokenize(en_datas)\n",
    "zhcn_tokenized, zhcn_tokenizer =tokenize(zhcn_datas,char_level=True)\n",
    "# 填充长度\n",
    "def pad(x, length=None):\n",
    "    if length is None:\n",
    "        length = max([len(sentence) for sentence in x])\n",
    "    return pad_sequences(x, maxlen=length, padding='post')\n",
    "preprocess_x = pad(en_tokenized)\n",
    "preprocess_y = pad(zhcn_tokenized)[:,:,None]\n"
   ]
  },
  {
   "cell_type": "code",
   "execution_count": 4,
   "metadata": {},
   "outputs": [],
   "source": [
    "def logits_to_text(logits, tokenizer):\n",
    "    index_to_words = {_id:word for word,_id in tokenizer.word_index.items()}\n",
    "    index_to_words[0]='<PAD>'\n",
    "    return ''.join([index_to_words[index] for index in np.argmax(logits, 1)])\n",
    "    "
   ]
  },
  {
   "cell_type": "code",
   "execution_count": 5,
   "metadata": {
    "scrolled": true
   },
   "outputs": [],
   "source": [
    "def translation_model(input_shape, output_sequence_length, english_vocab_size, zhcn_vocab_size):\n",
    "    input_seq = Input((input_shape[1:]))\n",
    "    x = Embedding(english_vocab_size,64)(input_seq)\n",
    "    x = Bidirectional(GRU(64,dropout=0.2,return_sequences=False))(x)\n",
    "    x = RepeatVector(output_sequence_length)(x)\n",
    "    x = Bidirectional(GRU(128,dropout=0.2,return_sequences=True))(x)\n",
    "    x = TimeDistributed(Dense(zhcn_vocab_size))(x)\n",
    "    x = Activation('softmax')(x)\n",
    "    model = Model(input_seq,x)\n",
    "    lr = 0.03\n",
    "    model.compile(loss = sparse_categorical_crossentropy, \n",
    "                 optimizer = Adam(lr,decay=0.01), \n",
    "                 metrics = ['accuracy'])\n",
    "    return model\n",
    "    \n",
    "    \n",
    "model = translation_model(preprocess_x.shape,preprocess_y.shape[1],len(en_tokenizer.word_index)+1,len(zhcn_tokenizer.word_index)+1)\n",
    "\n",
    "mc = ModelCheckpoint(filepath=r'weight\\ep{epoch:03d}val_loss{val_loss:.3f}val_acc{val_accuracy:.3f}.h5',save_best_only=True,save_weights_only=True,verbose=1)\n",
    "es = EarlyStopping(patience=5,min_delta=0.001)\n",
    "model.load_weights('weight\\weights.h5')\n",
    "# his = model.fit(preprocess_x, preprocess_y, \n",
    "#                 batch_size=64, epochs=500, \n",
    "#                 validation_split=0.2,\n",
    "#                 callbacks=[mc,es])\n",
    "# model.save_weights(r'weight\\weights.h5')"
   ]
  },
  {
   "cell_type": "code",
   "execution_count": 7,
   "metadata": {},
   "outputs": [
    {
     "data": {
      "text/plain": [
       "<matplotlib.legend.Legend at 0x25cd7f37048>"
      ]
     },
     "execution_count": 7,
     "metadata": {},
     "output_type": "execute_result"
    },
    {
     "data": {
      "image/png": "[encoded data removed]",
      "text/plain": [
       "<Figure size 432x288 with 1 Axes>"
      ]
     },
     "metadata": {
      "needs_background": "light"
     },
     "output_type": "display_data"
    }
   ],
   "source": [
    "loss=his.history['loss']\n",
    "val_loss=his.history['val_loss']\n",
    "plt.plot(range(len(loss)),loss,color='red')\n",
    "plt.plot(range(len(val_loss)),val_loss,color='blue')\n",
    "plt.legend(labels=['loss','val_loss',])\n"
   ]
  },
  {
   "cell_type": "code",
   "execution_count": 8,
   "metadata": {},
   "outputs": [
    {
     "name": "stdout",
     "output_type": "stream",
     "text": [
      "英文输入: new jersey is sometimes quiet during autumn , and it is snowy in april .\n",
      "翻译结果: 新泽西秋天有时安静，4月下雪。<PAD><PAD><PAD><PAD><PAD><PAD><PAD><PAD><PAD><PAD><PAD><PAD><PAD><PAD><PAD><PAD><PAD><PAD><PAD><PAD>\n",
      "\n",
      "英文输入: the united states is usually chilly during july , and it is usually freezing in november .\n",
      "翻译结果: 美国通常在7月寒冷，11111月冻结。<PAD><PAD><PAD><PAD><PAD><PAD><PAD><PAD><PAD><PAD><PAD><PAD><PAD><PAD><PAD><PAD>\n",
      "\n",
      "英文输入: california is usually quiet during march , and it is usually hot in june .\n",
      "翻译结果: 加利福尼亚通常在3月安静，6月通常炎热。<PAD><PAD><PAD><PAD><PAD><PAD><PAD><PAD><PAD><PAD><PAD><PAD><PAD><PAD><PAD>\n",
      "\n",
      "英文输入: the united states is sometimes mild during june , and it is cold in september .\n",
      "翻译结果: 美国六月有时温和，9月寒冷。<PAD><PAD><PAD><PAD><PAD><PAD><PAD><PAD><PAD><PAD><PAD><PAD><PAD><PAD><PAD><PAD><PAD><PAD><PAD><PAD><PAD>\n",
      "\n",
      "英文输入: your least liked fruit is the grape , but my least liked is the apple .\n",
      "翻译结果: 你最不喜欢的水果是葡萄，但我最不喜欢的是苹果。<PAD><PAD><PAD><PAD><PAD><PAD><PAD><PAD><PAD><PAD><PAD><PAD>\n",
      "\n",
      "英文输入: his favorite fruit is the orange , but my favorite is the grape .\n",
      "翻译结果: 他最喜欢的水果是橙子，但我最喜欢的是葡萄。<PAD><PAD><PAD><PAD><PAD><PAD><PAD><PAD><PAD><PAD><PAD><PAD><PAD><PAD>\n",
      "\n",
      "英文输入: paris is relaxing during december , but it is usually chilly in july .\n",
      "翻译结果: 巴黎在12月放松，但通常在7月寒冷。<PAD><PAD><PAD><PAD><PAD><PAD><PAD><PAD><PAD><PAD><PAD><PAD><PAD><PAD><PAD><PAD><PAD>\n",
      "\n",
      "英文输入: new jersey is busy during spring , and it is never hot in march .\n",
      "翻译结果: 新泽西春季忙碌，三月从未炎热。<PAD><PAD><PAD><PAD><PAD><PAD><PAD><PAD><PAD><PAD><PAD><PAD><PAD><PAD><PAD><PAD><PAD><PAD><PAD><PAD>\n",
      "\n",
      "英文输入: our least liked fruit is the lemon , but my least liked is the grape .\n",
      "翻译结果: 我们最不喜欢的水果是柠檬，但我最不喜欢的是葡萄。<PAD><PAD><PAD><PAD><PAD><PAD><PAD><PAD><PAD><PAD><PAD>\n",
      "\n",
      "英文输入: the united states is sometimes busy during january , and it is sometimes warm in november .\n",
      "翻译结果: 美国在1月有时忙碌，111有有温温暖<PAD><PAD><PAD><PAD><PAD><PAD><PAD><PAD><PAD><PAD><PAD><PAD><PAD><PAD><PAD><PAD><PAD>\n",
      "\n",
      "英文输入: the lime is her least liked fruit , but the banana is my least liked .\n",
      "翻译结果: 石灰是她最不喜欢的水果，但是香蕉是我最不喜欢的水果。<PAD><PAD><PAD><PAD><PAD><PAD><PAD><PAD><PAD>\n",
      "\n",
      "英文输入: he saw a old yellow truck .\n",
      "翻译结果: 他看见一辆旧的黄色卡车。<PAD><PAD><PAD><PAD><PAD><PAD><PAD><PAD><PAD><PAD><PAD><PAD><PAD><PAD><PAD><PAD><PAD><PAD><PAD><PAD><PAD><PAD><PAD>\n",
      "\n",
      "英文输入: india is rainy during june , and it is sometimes warm in november .\n",
      "翻译结果: 印度在6月下雨，111有时温暖。<PAD><PAD><PAD><PAD><PAD><PAD><PAD><PAD><PAD><PAD><PAD><PAD><PAD><PAD><PAD><PAD><PAD><PAD><PAD>\n",
      "\n",
      "英文输入: that cat was my most loved animal .\n",
      "翻译结果: 那只猫是我最爱的动物。<PAD><PAD><PAD><PAD><PAD><PAD><PAD><PAD><PAD><PAD><PAD><PAD><PAD><PAD><PAD><PAD><PAD><PAD><PAD><PAD><PAD><PAD><PAD><PAD>\n",
      "\n",
      "英文输入: he dislikes grapefruit , limes , and lemons .\n",
      "翻译结果: 他不喜欢葡萄柚，酸橙和柠檬。<PAD><PAD><PAD><PAD><PAD><PAD><PAD><PAD><PAD><PAD><PAD><PAD><PAD><PAD><PAD><PAD><PAD><PAD><PAD><PAD><PAD>\n",
      "\n"
     ]
    }
   ],
   "source": [
    "ens = en_datas[:15]\n",
    "zhcns = zhcn_datas[:15]\n",
    "predicts = model.predict(preprocess_x[:15])\n",
    "for en, zhcn,predict in zip(ens,zhcns,predicts):\n",
    "    print('英文输入:',en)\n",
    "#     print(zhcn)\n",
    "    print('翻译结果:',logits_to_text(predict,zhcn_tokenizer))\n",
    "    print()\n",
    "    "
   ]
  },
  {
   "cell_type": "code",
   "execution_count": null,
   "metadata": {},
   "outputs": [],
   "source": []
  }
 ],
 "metadata": {
  "kernelspec": {
   "display_name": "Python [conda env:.conda-py37_ml]",
   "language": "python",
   "name": "conda-env-.conda-py37_ml-py"
  },
  "language_info": {
   "codemirror_mode": {
    "name": "ipython",
    "version": 3
   },
   "file_extension": ".py",
   "mimetype": "text/x-python",
   "name": "python",
   "nbconvert_exporter": "python",
   "pygments_lexer": "ipython3",
   "version": "3.7.0"
  }
 },
 "nbformat": 4,
 "nbformat_minor": 2
}
